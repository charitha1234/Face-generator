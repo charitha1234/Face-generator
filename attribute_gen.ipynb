{
 "cells": [
  {
   "cell_type": "code",
   "execution_count": 1,
   "metadata": {},
   "outputs": [],
   "source": [
    "\n",
    "f=open(\"/Studies/GANs/dcgan-oreilly/data/CelebAMask-HQ-attribute-anno.txt\",\"rt\")\n",
    "no_of_images=int(f.readline())\n",
    "attributes=list(f.readline().split())\n",
    "image_attributes=[]\n",
    "\n",
    "for line in f:\n",
    "    l=list(line.split())\n",
    "    l.pop(0)\n",
    "    image_attributes.append(l)\n",
    "f.close()"
   ]
  },
  {
   "cell_type": "code",
   "execution_count": 4,
   "metadata": {},
   "outputs": [],
   "source": [
    "for i in range(len(attrib_files)):\n",
    "    image_attributes[i]=list(filter(None, image_attributes[i]))\n",
    "    file=open(\"/Studies/GANs/dcgan-oreilly/data/attributes/\"+str(i+1)+\".txt\",\"w\")\n",
    "    string=\" \".join(image_attributes[i])\n",
    "    file.write(string)\n",
    "    file.close()"
   ]
  },
  {
   "cell_type": "code",
   "execution_count": 6,
   "metadata": {},
   "outputs": [],
   "source": [
    "import numpy as np\n"
   ]
  },
  {
   "cell_type": "code",
   "execution_count": 15,
   "metadata": {},
   "outputs": [
    {
     "data": {
      "text/plain": [
       "array([-1., -1., -1.,  1., -1.,  1.,  1., -1.,  1., -1.,  1., -1., -1.,\n",
       "        1.,  1., -1., -1., -1.,  1., -1.,  1.,  1., -1.,  1.,  1., -1.,\n",
       "        1., -1., -1.,  1.,  1., -1.,  1., -1., -1.,  1., -1., -1., -1.,\n",
       "        1.])"
      ]
     },
     "execution_count": 15,
     "metadata": {},
     "output_type": "execute_result"
    }
   ],
   "source": [
    "(np.random.randint(2, size=40)-0.5)*2"
   ]
  },
  {
   "cell_type": "code",
   "execution_count": null,
   "metadata": {},
   "outputs": [],
   "source": []
  },
  {
   "cell_type": "code",
   "execution_count": null,
   "metadata": {},
   "outputs": [],
   "source": []
  }
 ],
 "metadata": {
  "kernelspec": {
   "display_name": "Python 3",
   "language": "python",
   "name": "python3"
  },
  "language_info": {
   "codemirror_mode": {
    "name": "ipython",
    "version": 3
   },
   "file_extension": ".py",
   "mimetype": "text/x-python",
   "name": "python",
   "nbconvert_exporter": "python",
   "pygments_lexer": "ipython3",
   "version": "3.7.4"
  }
 },
 "nbformat": 4,
 "nbformat_minor": 4
}
